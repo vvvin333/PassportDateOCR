{
  "nbformat": 4,
  "nbformat_minor": 0,
  "metadata": {
    "colab": {
      "name": "PassportDateOCRTesseract.ipynb",
      "provenance": [],
      "collapsed_sections": [],
      "authorship_tag": "ABX9TyMMDzBLgvdaBpj0lcuYkV0d",
      "include_colab_link": true
    },
    "kernelspec": {
      "name": "python3",
      "display_name": "Python 3"
    },
    "language_info": {
      "name": "python"
    }
  },
  "cells": [
    {
      "cell_type": "markdown",
      "metadata": {
        "id": "view-in-github",
        "colab_type": "text"
      },
      "source": [
        "<a href=\"https://colab.research.google.com/github/vvvin333/PassportDateOCR/blob/main/PassportDateOCRTesseract.ipynb\" target=\"_parent\"><img src=\"https://colab.research.google.com/assets/colab-badge.svg\" alt=\"Open In Colab\"/></a>"
      ]
    },
    {
      "cell_type": "markdown",
      "metadata": {
        "id": "D0VBvacXk1g2"
      },
      "source": [
        "***Detect and recognize date from passport and determine age***"
      ]
    },
    {
      "cell_type": "code",
      "metadata": {
        "colab": {
          "base_uri": "https://localhost:8080/"
        },
        "id": "e5VRgoaoRaOI",
        "outputId": "f7a58348-1452-4f13-c964-f3ee5af7cd15"
      },
      "source": [
        "!sudo apt install tesseract-ocr"
      ],
      "execution_count": null,
      "outputs": [
        {
          "output_type": "stream",
          "text": [
            "Reading package lists... Done\n",
            "Building dependency tree       \n",
            "Reading state information... Done\n",
            "The following package was automatically installed and is no longer required:\n",
            "  libnvidia-common-460\n",
            "Use 'sudo apt autoremove' to remove it.\n",
            "The following additional packages will be installed:\n",
            "  tesseract-ocr-eng tesseract-ocr-osd\n",
            "The following NEW packages will be installed:\n",
            "  tesseract-ocr tesseract-ocr-eng tesseract-ocr-osd\n",
            "0 upgraded, 3 newly installed, 0 to remove and 34 not upgraded.\n",
            "Need to get 4,795 kB of archives.\n",
            "After this operation, 15.8 MB of additional disk space will be used.\n",
            "Get:1 http://archive.ubuntu.com/ubuntu bionic/universe amd64 tesseract-ocr-eng all 4.00~git24-0e00fe6-1.2 [1,588 kB]\n",
            "Get:2 http://archive.ubuntu.com/ubuntu bionic/universe amd64 tesseract-ocr-osd all 4.00~git24-0e00fe6-1.2 [2,989 kB]\n",
            "Get:3 http://archive.ubuntu.com/ubuntu bionic/universe amd64 tesseract-ocr amd64 4.00~git2288-10f4998a-2 [218 kB]\n",
            "Fetched 4,795 kB in 2s (2,783 kB/s)\n",
            "debconf: unable to initialize frontend: Dialog\n",
            "debconf: (No usable dialog-like program is installed, so the dialog based frontend cannot be used. at /usr/share/perl5/Debconf/FrontEnd/Dialog.pm line 76, <> line 3.)\n",
            "debconf: falling back to frontend: Readline\n",
            "debconf: unable to initialize frontend: Readline\n",
            "debconf: (This frontend requires a controlling tty.)\n",
            "debconf: falling back to frontend: Teletype\n",
            "dpkg-preconfigure: unable to re-open stdin: \n",
            "Selecting previously unselected package tesseract-ocr-eng.\n",
            "(Reading database ... 160706 files and directories currently installed.)\n",
            "Preparing to unpack .../tesseract-ocr-eng_4.00~git24-0e00fe6-1.2_all.deb ...\n",
            "Unpacking tesseract-ocr-eng (4.00~git24-0e00fe6-1.2) ...\n",
            "Selecting previously unselected package tesseract-ocr-osd.\n",
            "Preparing to unpack .../tesseract-ocr-osd_4.00~git24-0e00fe6-1.2_all.deb ...\n",
            "Unpacking tesseract-ocr-osd (4.00~git24-0e00fe6-1.2) ...\n",
            "Selecting previously unselected package tesseract-ocr.\n",
            "Preparing to unpack .../tesseract-ocr_4.00~git2288-10f4998a-2_amd64.deb ...\n",
            "Unpacking tesseract-ocr (4.00~git2288-10f4998a-2) ...\n",
            "Setting up tesseract-ocr-osd (4.00~git24-0e00fe6-1.2) ...\n",
            "Setting up tesseract-ocr-eng (4.00~git24-0e00fe6-1.2) ...\n",
            "Setting up tesseract-ocr (4.00~git2288-10f4998a-2) ...\n",
            "Processing triggers for man-db (2.8.3-2ubuntu0.1) ...\n"
          ],
          "name": "stdout"
        }
      ]
    },
    {
      "cell_type": "code",
      "metadata": {
        "id": "rBfDsbKB8y4n",
        "colab": {
          "base_uri": "https://localhost:8080/"
        },
        "outputId": "0fcb82b9-42c7-47c6-addd-6feaa8e02687"
      },
      "source": [
        "!pip install pytesseract\n",
        "!pip install dateparser\n",
        "!pip install scikit-image"
      ],
      "execution_count": null,
      "outputs": [
        {
          "output_type": "stream",
          "text": [
            "Requirement already satisfied: pytesseract in /usr/local/lib/python3.7/dist-packages (0.3.7)\n",
            "Requirement already satisfied: Pillow in /usr/local/lib/python3.7/dist-packages (from pytesseract) (7.1.2)\n",
            "Requirement already satisfied: dateparser in /usr/local/lib/python3.7/dist-packages (1.0.0)\n",
            "Requirement already satisfied: pytz in /usr/local/lib/python3.7/dist-packages (from dateparser) (2018.9)\n",
            "Requirement already satisfied: python-dateutil in /usr/local/lib/python3.7/dist-packages (from dateparser) (2.8.1)\n",
            "Requirement already satisfied: tzlocal in /usr/local/lib/python3.7/dist-packages (from dateparser) (1.5.1)\n",
            "Requirement already satisfied: regex!=2019.02.19 in /usr/local/lib/python3.7/dist-packages (from dateparser) (2019.12.20)\n",
            "Requirement already satisfied: six>=1.5 in /usr/local/lib/python3.7/dist-packages (from python-dateutil->dateparser) (1.15.0)\n",
            "Requirement already satisfied: scikit-image in /usr/local/lib/python3.7/dist-packages (0.16.2)\n",
            "Requirement already satisfied: PyWavelets>=0.4.0 in /usr/local/lib/python3.7/dist-packages (from scikit-image) (1.1.1)\n",
            "Requirement already satisfied: networkx>=2.0 in /usr/local/lib/python3.7/dist-packages (from scikit-image) (2.5.1)\n",
            "Requirement already satisfied: pillow>=4.3.0 in /usr/local/lib/python3.7/dist-packages (from scikit-image) (7.1.2)\n",
            "Requirement already satisfied: imageio>=2.3.0 in /usr/local/lib/python3.7/dist-packages (from scikit-image) (2.4.1)\n",
            "Requirement already satisfied: scipy>=0.19.0 in /usr/local/lib/python3.7/dist-packages (from scikit-image) (1.4.1)\n",
            "Requirement already satisfied: matplotlib!=3.0.0,>=2.0.0 in /usr/local/lib/python3.7/dist-packages (from scikit-image) (3.2.2)\n",
            "Requirement already satisfied: numpy>=1.13.3 in /usr/local/lib/python3.7/dist-packages (from PyWavelets>=0.4.0->scikit-image) (1.19.5)\n",
            "Requirement already satisfied: decorator<5,>=4.3 in /usr/local/lib/python3.7/dist-packages (from networkx>=2.0->scikit-image) (4.4.2)\n",
            "Requirement already satisfied: kiwisolver>=1.0.1 in /usr/local/lib/python3.7/dist-packages (from matplotlib!=3.0.0,>=2.0.0->scikit-image) (1.3.1)\n",
            "Requirement already satisfied: python-dateutil>=2.1 in /usr/local/lib/python3.7/dist-packages (from matplotlib!=3.0.0,>=2.0.0->scikit-image) (2.8.1)\n",
            "Requirement already satisfied: cycler>=0.10 in /usr/local/lib/python3.7/dist-packages (from matplotlib!=3.0.0,>=2.0.0->scikit-image) (0.10.0)\n",
            "Requirement already satisfied: pyparsing!=2.0.4,!=2.1.2,!=2.1.6,>=2.0.1 in /usr/local/lib/python3.7/dist-packages (from matplotlib!=3.0.0,>=2.0.0->scikit-image) (2.4.7)\n",
            "Requirement already satisfied: six>=1.5 in /usr/local/lib/python3.7/dist-packages (from python-dateutil>=2.1->matplotlib!=3.0.0,>=2.0.0->scikit-image) (1.15.0)\n"
          ],
          "name": "stdout"
        }
      ]
    },
    {
      "cell_type": "markdown",
      "metadata": {
        "id": "HFasd3WukymG"
      },
      "source": [
        "_____________________________"
      ]
    },
    {
      "cell_type": "code",
      "metadata": {
        "id": "NV9Yd993TgY_"
      },
      "source": [
        "import os\n",
        "import cv2\n",
        "import numpy as np\n",
        "from PIL import Image\n",
        "import random\n",
        "from skimage.filters import threshold_local\n",
        "\n",
        "\n",
        "def rescale_image(img):\n",
        "  # rescales the very large images\n",
        "  height, width = img.size\n",
        "  factor = min(1, float(1024.0 / height))\n",
        "  size = int(factor * height), int(factor * width)\n",
        "  img = img.resize(size, Image.ANTIALIAS)\n",
        "  img = np.array(img)\n",
        "  # adding border to image\n",
        "  img = cv2.copyMakeBorder(img,10,10,10,10,cv2.BORDER_CONSTANT,value=[0,0,0])\n",
        "  return img\n",
        "\n",
        "def auto_canny(img, sigma=0.50):\n",
        "  # compute the median of pixel intensities\n",
        "\tmed = np.median(img)\n",
        "\t# apply Canny edge detection using computed median\n",
        "\tlower = int(max(0, (1.0 - sigma) * med))\n",
        "\tupper = int(min(255, (1.0 + sigma) * med))\n",
        "\tedge_img = cv2.Canny(img, lower, upper)\n",
        "\t# return the edged image\n",
        "\treturn edge_img\n",
        "\n",
        "def edged(img):\n",
        "  # find edges in image\n",
        "  # convert rgb to gray\n",
        "  gray = cv2.cvtColor(img, cv2.COLOR_BGR2GRAY)\n",
        "  # blur to remove noise\n",
        "  blur = cv2.GaussianBlur(gray, (5, 5), 0)\n",
        "  # find edges\n",
        "  edge_img = auto_canny(blur)\n",
        "  return edge_img\n",
        "\n",
        "def threshold(img):\n",
        "  # threshold an image\n",
        "  # convert rgb to gray\n",
        "  gray = cv2.cvtColor(img, cv2.COLOR_BGR2GRAY)\n",
        "  # invert image\n",
        "  gray = cv2.bitwise_not(gray)\n",
        "  # blur to remove noise\n",
        "  blur = cv2.GaussianBlur(gray, (5, 5), 0)\n",
        "  # apply thresholding\n",
        "  thresh = cv2.threshold(blur, 0, 255, cv2.THRESH_BINARY+cv2.THRESH_OTSU)[1]\n",
        "  edge_img = edged(img)\n",
        "  thresh = cv2.bitwise_or(edge_img, thresh)\n",
        "  return thresh\n",
        "\n",
        "def find_bbox(thresh):\n",
        "  # finds bounding box of receipt\n",
        "  # finding contours\n",
        "  cnts = cv2.findContours(thresh, cv2.RETR_LIST, cv2.CHAIN_APPROX_SIMPLE)[0]\n",
        "  # sorting contours by area\n",
        "  cnts = sorted(cnts, key=cv2.contourArea, reverse=True)[:5]\n",
        "  # finding min area rect for second biggest contour\n",
        "  rect = cv2.minAreaRect(cnts[1])\n",
        "  bbox = cv2.boxPoints(rect)\n",
        "  bbox = np.int0(bbox)\n",
        "  return cnts, bbox\n",
        "\n",
        "def crop_img(img, bbox):\n",
        "  # crop the image using receipt bounding box\n",
        "  left, top = bbox[bbox.sum(axis=1).argmin()]\n",
        "  right, bottom = bbox[bbox.sum(axis=1).argmax()]\n",
        "  img = img[top:bottom,left:right]\n",
        "  return img\n",
        "\n",
        "def image_smoothening(img):\n",
        "  # thresholding with less noise \n",
        "  ret1, th1 = cv2.threshold(img, 150, 255, cv2.THRESH_BINARY)\n",
        "  blur = cv2.GaussianBlur(th1, (5, 5), 0)\n",
        "  ret2, th2 = cv2.threshold(th1, 0, 255, cv2.THRESH_BINARY + cv2.THRESH_OTSU)\n",
        "  return th2\n",
        "\n",
        "def remove_noise_and_smooth(img):\n",
        "  # thresholding image for final OCR\n",
        "  gray = cv2.cvtColor(img, cv2.COLOR_BGR2GRAY)\n",
        "  thresh = threshold_local(gray, 11, offset = 10, method = \"gaussian\")\n",
        "  thresh = (gray > thresh).astype(\"uint8\") * 255\n",
        "  # applying morph operations\n",
        "  kernel = np.ones((1, 1), np.uint8)\n",
        "  thresh = cv2.morphologyEx(thresh, cv2.MORPH_CLOSE, kernel)\n",
        "  thresh = cv2.morphologyEx(thresh, cv2.MORPH_OPEN, kernel)\n",
        "  smooth_img = image_smoothening(gray)\n",
        "  # merging both threshold\n",
        "  final_img = cv2.bitwise_or(smooth_img, thresh)\n",
        "  return final_img\n",
        "\n",
        "def random_string():\n",
        "  return ''.join([chr(random.randint(97,122)) for i in range(10)])\n"
      ],
      "execution_count": null,
      "outputs": []
    },
    {
      "cell_type": "code",
      "metadata": {
        "id": "yB4Ra1VSTC9Y"
      },
      "source": [
        "import pytesseract\n",
        "import re\n",
        "\n",
        "\n",
        "def find_date(text, regex=r\"(19|20)\\d{2}\"):\n",
        "    '''\n",
        "    default regex: for year 1900-2099\n",
        "    regex samples for date:\n",
        "    regex = r\"((19|20)?\\d{1,2}\\s?[-/]\\s?\\d{1,2}\\s?[-/]\\s?(19|20)?\\d{2})|\"\\\n",
        "            r\"((Jan|Feb|Mar|Apr|May|Jun|June|Jul|Aug|Sept|Sep|Oct|Nov|Dec)\"\\\n",
        "            r\"\\s?\\d{1,2}\\s?[,']?\\s?(19|20)?\\d{2})|(\\d{1,2}\\s?[-/]?\\s?\"\\\n",
        "            r\"(Jan|Feb|Mar|Apr|May|Jun|June|Jul|Aug|Sept|Sep|Oct|Nov|Dec)\"\\\n",
        "            r\"\\s?[',-/]?\\s?(19|20)?\\d{1,2})\"\n",
        "    regex = r\"^(?:(?:31(\\/|-|\\.)(?:0?[13578]|1[02]))\\1|(?:(?:29|30)(\\/|-|\\.)\"\\\n",
        "            r\"(?:0?[13-9]|1[0-2])\\2))(?:(?:1[6-9]|[2-9]\\d)?\\d{2})$|\"\\\n",
        "            r\"^(?:29(\\/|-|\\.)0?2\\3(?:(?:(?:1[6-9]|[2-9]\\d)?(?:0[48]|[2468][048]\"\\\n",
        "            r\"|[13579][26])|(?:(?:16|[2468][048]|[3579][26])00))))$|^(?:0?[1-9]\"\\\n",
        "            r\"|1\\d|2[0-8])(\\/|-|\\.)(?:(?:0?[1-9])|(?:1[0-2]))\\4(?:(?:1[6-9]\"\\\n",
        "            r\"|[2-9]\\d)?\\d{2})\"\n",
        "    regex = r\"(19|20)\\d{2}\"\n",
        "    '''\n",
        "    pattern = re.compile(regex, flags=re.IGNORECASE)\n",
        "    matches = list(re.finditer(pattern, text))\n",
        "    if len(matches)==0:\n",
        "        return None\n",
        "    result = [int(match.group()) for match in matches]\n",
        "    return result\n",
        "\n",
        "def find_date_from_image(img):\n",
        "    # preprocessing image\n",
        "    img = rescale_image(img)\n",
        "    thresh = threshold(img)\n",
        "    cnts, bbox = find_bbox(thresh)\n",
        "    img = crop_img(img, bbox)\n",
        "    final_img = remove_noise_and_smooth(img)\n",
        "    \n",
        "    # finding text in image\n",
        "    text = pytesseract.image_to_string(final_img)\n",
        "    \n",
        "    # searching for dates\n",
        "    date = find_date(text)\n",
        "    return date"
      ],
      "execution_count": null,
      "outputs": []
    },
    {
      "cell_type": "code",
      "metadata": {
        "id": "5BqTAa8bTC6K"
      },
      "source": [
        "import cv2\n",
        "import datetime\n",
        "from PIL import Image\n",
        "\n",
        "\n",
        "def age_recognition(img_name):\n",
        "    path = img_name #f'./images/{img_name}'  \n",
        "    try:\n",
        "        img = Image.open(path)\n",
        "    except:\n",
        "        return ValueError\n",
        "    years_from_image = find_date_from_image(img)\n",
        "    birth_year = min(years_from_image)\n",
        "    # print(birth_year)\n",
        "    now = datetime.datetime.now()\n",
        "    # print(now.year)\n",
        "    return now.year - birth_year"
      ],
      "execution_count": null,
      "outputs": []
    },
    {
      "cell_type": "code",
      "metadata": {
        "id": "68nNIJSdgaiu"
      },
      "source": [
        "from google.colab.patches import cv2_imshow #utility for Google colab c2.imshow"
      ],
      "execution_count": null,
      "outputs": []
    },
    {
      "cell_type": "code",
      "metadata": {
        "colab": {
          "base_uri": "https://localhost:8080/",
          "height": 430
        },
        "id": "mFxt-yh4TCzZ",
        "outputId": "eb8ca3ce-e873-4aa9-f947-a00cda6102d4"
      },
      "source": [
        "image_name = \"004.jpg\"\n",
        "result = age_recognition(image_name)\n",
        "print(result, \"years old\")\n",
        "image = cv2.imread(image_name)\n",
        "cv2_imshow(image) #cv2.imshow"
      ],
      "execution_count": null,
      "outputs": [
        {
          "output_type": "stream",
          "text": [
            "25 years old\n"
          ],
          "name": "stdout"
       } 
      ]
    },
    {
      "cell_type": "code",
      "metadata": {
        "id": "BUfybiCggbkL"
      },
      "source": [
        ""
      ],
      "execution_count": null,
      "outputs": []
    }
  ]
}
